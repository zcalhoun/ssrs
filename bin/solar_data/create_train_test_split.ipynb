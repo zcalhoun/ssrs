{
 "cells": [
  {
   "cell_type": "markdown",
   "metadata": {},
   "source": [
    "# Generate train / test split"
   ]
  },
  {
   "cell_type": "code",
   "execution_count": 1,
   "metadata": {},
   "outputs": [],
   "source": [
    "import os\n",
    "from collections import defaultdict\n",
    "import numpy as np\n",
    "import joblib\n",
    "\n",
    "import torch"
   ]
  },
  {
   "cell_type": "code",
   "execution_count": 2,
   "metadata": {},
   "outputs": [
    {
     "name": "stdout",
     "output_type": "stream",
     "text": [
      "310\n"
     ]
    }
   ],
   "source": [
    "# Get the images that have masks\n",
    "mask_files = os.listdir('/scratch/zach/masks_raw/')\n",
    "print(len(mask_files))"
   ]
  },
  {
   "cell_type": "code",
   "execution_count": 3,
   "metadata": {},
   "outputs": [],
   "source": [
    "mask_tensors = os.listdir('/scratch/zach/mask_tensors/')"
   ]
  },
  {
   "cell_type": "code",
   "execution_count": 4,
   "metadata": {},
   "outputs": [],
   "source": [
    "# Delete any tensors that are not 1x224x224\n",
    "count_dict = defaultdict(int)\n",
    "\n",
    "for fn in mask_tensors:\n",
    "\tcount_dict[fn.split(\"_\")[0]] += 1"
   ]
  },
  {
   "cell_type": "code",
   "execution_count": 5,
   "metadata": {},
   "outputs": [
    {
     "name": "stdout",
     "output_type": "stream",
     "text": [
      "11ska565830\n",
      "136\n"
     ]
    }
   ],
   "source": [
    "for k, v in count_dict.items():\n",
    "\tprint(k)\n",
    "\tprint(v)\n",
    "\tbreak"
   ]
  },
  {
   "cell_type": "code",
   "execution_count": 6,
   "metadata": {},
   "outputs": [
    {
     "name": "stdout",
     "output_type": "stream",
     "text": [
      "3717\n",
      "14098\n",
      "17815\n"
     ]
    }
   ],
   "source": [
    "# We want to split the default dict into two categories\n",
    "train_count = 0\n",
    "test_count = 0\n",
    "for i, (key, value) in enumerate(count_dict.items()):\n",
    "\tif i % 5 == 0:\n",
    "\t\ttest_count += value\n",
    "\telse:\n",
    "\t\ttrain_count += value\n",
    "\n",
    "print(test_count)\n",
    "print(train_count)\n",
    "print(test_count+train_count)"
   ]
  },
  {
   "cell_type": "code",
   "execution_count": 19,
   "metadata": {},
   "outputs": [],
   "source": [
    "dataset = {\n",
    "\t\"test\": {\n",
    "\t\t\"raw\" : [],\n",
    "\t\t\"mask\": [],\n",
    "\t\t\"empty\": []\n",
    "\t},\n",
    "\t\"train\": {\n",
    "\t\t\"raw\": [],\n",
    "\t\t\"mask\": [],\n",
    "\t\t\"empty\": []\n",
    "\t}\n",
    "}\n",
    "\n",
    "# Iterate through and fill in with the raw values:\n",
    "for i, (key, value) in enumerate(count_dict.items()):\n",
    "\tif i % 5 == 0:\n",
    "\t\tdataset['test']['raw'].append(key)\n",
    "\telse:\n",
    "\t\tdataset['train']['raw'].append(key)"
   ]
  },
  {
   "cell_type": "code",
   "execution_count": 20,
   "metadata": {},
   "outputs": [
    {
     "name": "stdout",
     "output_type": "stream",
     "text": [
      "421888\n"
     ]
    }
   ],
   "source": [
    "all_images = os.listdir('/scratch/zach/solar-pv/')\n",
    "print(len(all_images))"
   ]
  },
  {
   "cell_type": "code",
   "execution_count": 9,
   "metadata": {},
   "outputs": [
    {
     "data": {
      "text/plain": [
       "'11ska475815_15_09.tif'"
      ]
     },
     "execution_count": 9,
     "metadata": {},
     "output_type": "execute_result"
    }
   ],
   "source": [
    "all_images[0]"
   ]
  },
  {
   "cell_type": "code",
   "execution_count": 10,
   "metadata": {},
   "outputs": [
    {
     "data": {
      "text/plain": [
       "18302"
      ]
     },
     "execution_count": 10,
     "metadata": {},
     "output_type": "execute_result"
    }
   ],
   "source": [
    "all_masks = os.listdir('/scratch/zach/masks/')\n",
    "len(all_masks)"
   ]
  },
  {
   "cell_type": "code",
   "execution_count": 21,
   "metadata": {},
   "outputs": [],
   "source": [
    "for image_name in all_images:\n",
    "\tif image_name in all_masks:\n",
    "\t\traw_name = image_name.split(\"_\")[0]\n",
    "\t\tif raw_name in dataset['test']['raw']:\n",
    "\t\t\tdataset['test']['mask'].append(image_name)\n",
    "\t\telse:\n",
    "\t\t\tdataset['train']['mask'].append(image_name)\n",
    "\telse:\n",
    "\t\t# Only keep 4.5% of the time, to get down to desired number\n",
    "\t\tif np.random.rand() < 0.1:\n",
    "\t\t\traw_name = image_name.split(\"_\")[0]\n",
    "\t\t\tif raw_name in dataset['test']['raw']:\n",
    "\t\t\t\tdataset['test']['empty'].append(image_name)\n",
    "\t\t\telse:\n",
    "\t\t\t\tdataset['train']['empty'].append(image_name)"
   ]
  },
  {
   "cell_type": "code",
   "execution_count": 12,
   "metadata": {},
   "outputs": [
    {
     "name": "stdout",
     "output_type": "stream",
     "text": [
      "248\n",
      "14098\n",
      "34388\n",
      "62\n",
      "3717\n",
      "6076\n"
     ]
    }
   ],
   "source": [
    "print(len(dataset['train']['raw']))\n",
    "print(len(dataset['train']['mask']))\n",
    "print(len(dataset['train']['empty']))\n",
    "print(len(dataset['test']['raw']))\n",
    "print(len(dataset['test']['mask']))\n",
    "print(len(dataset['test']['empty']))"
   ]
  },
  {
   "cell_type": "code",
   "execution_count": 33,
   "metadata": {},
   "outputs": [
    {
     "name": "stdout",
     "output_type": "stream",
     "text": [
      "3725\n"
     ]
    }
   ],
   "source": [
    "# IF YOU WANT TO MAKE A LARGE, but EVEN dataset (where\n",
    "# the number of masked examples is roughly even to the number\n",
    "# of non-masked examples, then use this cell)\n",
    "# Use this to ensure numbers are about even.\n",
    "prob = 3717/6084\n",
    "test_empty = []\n",
    "for fn in dataset['test']['empty']:\n",
    "\tif np.random.rand() < prob:\n",
    "\t\ttest_empty.append(fn)\n",
    "\n",
    "print(len(test_empty))"
   ]
  },
  {
   "cell_type": "code",
   "execution_count": 34,
   "metadata": {},
   "outputs": [],
   "source": [
    "# If the number above is about even to the number of masked examples,\n",
    "# then rewrite over the empty array\n",
    "dataset['test']['empty'] = test_empty"
   ]
  },
  {
   "cell_type": "code",
   "execution_count": 36,
   "metadata": {},
   "outputs": [],
   "source": [
    "# Now that the dataset is about evenly split, save the JSON file for later use\n",
    "joblib.dump(dataset, '/scratch/zach/train_test_split.joblib')"
   ]
  },
  {
   "cell_type": "markdown",
   "metadata": {},
   "source": [
    "# The label limited case.\n",
    "We think that it would be helpful to have a dataset where the train and test split\n",
    "only have ~1000 examples each. That way we will have a truly limited case in which\n",
    "we want to identify which model works best."
   ]
  },
  {
   "cell_type": "code",
   "execution_count": 32,
   "metadata": {},
   "outputs": [],
   "source": [
    "small = {\n",
    "\t\"test\": {\n",
    "\t\t\"mask\": [],\n",
    "\t\t\"empty\": []\n",
    "\t},\n",
    "\t\"train\": {\n",
    "\t\t\"mask\": [],\n",
    "\t\t\"empty\": []\n",
    "\t}\n",
    "}\n",
    "\n"
   ]
  },
  {
   "cell_type": "code",
   "execution_count": 33,
   "metadata": {},
   "outputs": [],
   "source": [
    "generator = np.random.default_rng(seed=42)\n",
    "for k1 in small.keys():\n",
    "    for k2 in small[k1].keys():\n",
    "        small[k1][k2] = generator.choice(dataset[k1][k2], 500, replace=False)"
   ]
  },
  {
   "cell_type": "code",
   "execution_count": 34,
   "metadata": {},
   "outputs": [
    {
     "data": {
      "text/plain": [
       "['/scratch/zach/train_test_split_small.joblib']"
      ]
     },
     "execution_count": 34,
     "metadata": {},
     "output_type": "execute_result"
    }
   ],
   "source": [
    "# Save the smaller dataset for future experiments\n",
    "\n",
    "joblib.dump(dataset, '/scratch/zach/train_test_split_small.joblib')"
   ]
  }
 ],
 "metadata": {
  "kernelspec": {
   "display_name": "Python 3.8.9 64-bit",
   "language": "python",
   "name": "python3"
  },
  "language_info": {
   "codemirror_mode": {
    "name": "ipython",
    "version": 3
   },
   "file_extension": ".py",
   "mimetype": "text/x-python",
   "name": "python",
   "nbconvert_exporter": "python",
   "pygments_lexer": "ipython3",
   "version": "3.8.10"
  },
  "orig_nbformat": 4,
  "vscode": {
   "interpreter": {
    "hash": "31f2aee4e71d21fbe5cf8b01ff0e069b9275f58929596ceb00d14d90e3e16cd6"
   }
  }
 },
 "nbformat": 4,
 "nbformat_minor": 2
}
