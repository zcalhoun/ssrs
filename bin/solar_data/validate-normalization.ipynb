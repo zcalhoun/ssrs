{
 "cells": [
  {
   "cell_type": "markdown",
   "metadata": {},
   "source": [
    "# In this notebook\n",
    "I validate the mean/standard deviations of the images"
   ]
  },
  {
   "cell_type": "code",
   "execution_count": 17,
   "metadata": {},
   "outputs": [],
   "source": [
    "import cv2\n",
    "import numpy as np\n",
    "import joblib"
   ]
  },
  {
   "cell_type": "code",
   "execution_count": 10,
   "metadata": {},
   "outputs": [],
   "source": [
    "data_path = \"/scratch/zach/solar-pv/\"\n",
    "mask_path = \"/scratch/zach/mask_tensors/\"\n",
    "files = joblib.load(\"/scratch/zach/train_test_split.joblib\")\n",
    "\n",
    "train_files = files[\"train\"][\"empty\"] + files[\"train\"][\"mask\"]"
   ]
  },
  {
   "cell_type": "code",
   "execution_count": 44,
   "metadata": {},
   "outputs": [],
   "source": [
    "mean = np.array([0.,0.,0.])\n",
    "stdTemp = np.array([0.,0.,0.])\n",
    "std = np.array([0.,0.,0.])"
   ]
  },
  {
   "cell_type": "code",
   "execution_count": 46,
   "metadata": {},
   "outputs": [],
   "source": [
    "for i, fn in enumerate(train_files):\n",
    "    file_name = data_path + fn\n",
    "\n",
    "    im = cv2.imread(file_name)\n",
    "    im = cv2.cvtColor(im, cv2.COLOR_BGR2RGB)\n",
    "    im = im.astype(float) / 255.\n",
    "    \n",
    "    for j in range(3):\n",
    "        mean[j] += np.mean(im[:,:,j])\n",
    "\n",
    "mean = mean / len(train_files)"
   ]
  },
  {
   "cell_type": "code",
   "execution_count": 47,
   "metadata": {},
   "outputs": [
    {
     "data": {
      "text/plain": [
       "array([0.50701865, 0.51255884, 0.46168165])"
      ]
     },
     "execution_count": 47,
     "metadata": {},
     "output_type": "execute_result"
    }
   ],
   "source": [
    "mean"
   ]
  },
  {
   "cell_type": "code",
   "execution_count": 48,
   "metadata": {},
   "outputs": [
    {
     "data": {
      "text/plain": [
       "array([0.56228815, 0.54616814, 0.48922902])"
      ]
     },
     "execution_count": 48,
     "metadata": {},
     "output_type": "execute_result"
    }
   ],
   "source": [
    "for i, fn in enumerate(train_files):\n",
    "    file_name = data_path + fn\n",
    "    im = cv2.imread(file_name)\n",
    "    im = cv2.cvtColor(im, cv2.COLOR_BGR2RGB)\n",
    "    im = im.astype(float) / 255.\n",
    "    for j in range(3):\n",
    "        stdTemp[j] += ((im[:,:,j] - mean[j])**2).sum()/(im.shape[0]*im.shape[1])\n",
    "\n",
    "std = np.sqrt(stdTemp/len(train_files))\n",
    "\n",
    "std"
   ]
  }
 ],
 "metadata": {
  "kernelspec": {
   "display_name": "Python 3.10.5 ('geospatial')",
   "language": "python",
   "name": "python3"
  },
  "language_info": {
   "codemirror_mode": {
    "name": "ipython",
    "version": 3
   },
   "file_extension": ".py",
   "mimetype": "text/x-python",
   "name": "python",
   "nbconvert_exporter": "python",
   "pygments_lexer": "ipython3",
   "version": "3.10.5"
  },
  "orig_nbformat": 4,
  "vscode": {
   "interpreter": {
    "hash": "5f5346f359a3c5d96b92ff5b0b692b3a2390c3fcc954ce33a5806add5ad1798c"
   }
  }
 },
 "nbformat": 4,
 "nbformat_minor": 2
}
