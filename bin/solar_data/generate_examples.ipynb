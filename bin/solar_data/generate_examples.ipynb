{
 "cells": [
  {
   "cell_type": "markdown",
   "metadata": {},
   "source": [
    "# In this notebook\n",
    "I show how to generate examples worth looking at. Basically, I look for the samples with the highest standard deviation between models to see what examples the models tend to struggle with the most."
   ]
  },
  {
   "cell_type": "code",
   "execution_count": 15,
   "metadata": {},
   "outputs": [],
   "source": [
    "import pandas as pd\n",
    "import numpy as np"
   ]
  },
  {
   "cell_type": "code",
   "execution_count": 61,
   "metadata": {},
   "outputs": [],
   "source": [
    "base_path = './experiments/solar/'\n",
    "# experiments = range(3,19))\n",
    "\n",
    "experiments = []\n",
    "for i, exp in enumerate(range(3,19)):\n",
    "    # Open the file\n",
    "    df = pd.read_csv(base_path+'t'+str(exp)+'/best/iou.csv')\n",
    "    # Extract the values\n",
    "    iou = df[:-1]['iou'].apply(float).to_numpy()\n",
    "    experiments.append(iou)\n",
    "    # Ensure the lengths are all equal\n",
    "    assert len(experiments[0]) == len(iou)"
   ]
  },
  {
   "cell_type": "code",
   "execution_count": 62,
   "metadata": {},
   "outputs": [],
   "source": [
    "experiments = np.array(experiments)"
   ]
  },
  {
   "cell_type": "code",
   "execution_count": 63,
   "metadata": {},
   "outputs": [],
   "source": [
    "avg = experiments.mean(axis=0)\n",
    "std = experiments.std(axis=0)\n",
    "maxim = experiments.max(axis=0)\n",
    "minim = experiments.min(axis=0)"
   ]
  },
  {
   "cell_type": "code",
   "execution_count": 64,
   "metadata": {},
   "outputs": [
    {
     "data": {
      "text/plain": [
       "array([5908, 5116, 5469, 6675, 6280, 6363, 4860, 4790, 6575, 4756])"
      ]
     },
     "execution_count": 64,
     "metadata": {},
     "output_type": "execute_result"
    }
   ],
   "source": [
    "sorted_args = std.argsort()[::-1]\n",
    "# Top 10 hardest examples\n",
    "sorted_args[:10]"
   ]
  }
 ],
 "metadata": {
  "kernelspec": {
   "display_name": "Python 3.8.10 64-bit",
   "language": "python",
   "name": "python3"
  },
  "language_info": {
   "codemirror_mode": {
    "name": "ipython",
    "version": 3
   },
   "file_extension": ".py",
   "mimetype": "text/x-python",
   "name": "python",
   "nbconvert_exporter": "python",
   "pygments_lexer": "ipython3",
   "version": "3.8.10"
  },
  "orig_nbformat": 4,
  "vscode": {
   "interpreter": {
    "hash": "31f2aee4e71d21fbe5cf8b01ff0e069b9275f58929596ceb00d14d90e3e16cd6"
   }
  }
 },
 "nbformat": 4,
 "nbformat_minor": 2
}
