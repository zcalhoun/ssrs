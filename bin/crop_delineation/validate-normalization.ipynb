{
 "cells": [
  {
   "cell_type": "markdown",
   "metadata": {},
   "source": [
    "# In this notebook\n",
    "I validate the mean/standard deviations of the images"
   ]
  },
  {
   "cell_type": "code",
   "execution_count": 15,
   "metadata": {},
   "outputs": [],
   "source": [
    "import numpy as np\n",
    "import joblib\n",
    "import pandas as pd\n",
    "\n",
    "from PIL import Image"
   ]
  },
  {
   "cell_type": "code",
   "execution_count": 3,
   "metadata": {},
   "outputs": [],
   "source": [
    "data_path = '/scratch/crop-delineation/data/imgs/'\n",
    "mask_path = '/scratch/crop-delineation/data/masks/'\n",
    "\n",
    "df = pd.read_csv(\"/scratch/crop-delineation/data/clean_data.csv\")\n",
    "train_files = df[df['split'] == 'train']['indices']"
   ]
  },
  {
   "cell_type": "code",
   "execution_count": 4,
   "metadata": {},
   "outputs": [],
   "source": [
    "mean = np.array([0.,0.,0.])\n",
    "stdTemp = np.array([0.,0.,0.])\n",
    "std = np.array([0.,0.,0.])"
   ]
  },
  {
   "cell_type": "code",
   "execution_count": 24,
   "metadata": {},
   "outputs": [
    {
     "data": {
      "text/plain": [
       "array([0.23839528, 0.29665601, 0.31717633])"
      ]
     },
     "execution_count": 24,
     "metadata": {},
     "output_type": "execute_result"
    }
   ],
   "source": [
    "for i, fn in enumerate(train_files):\n",
    "    file_name = data_path + f'{fn}.jpeg'\n",
    "\n",
    "    im = Image.open(file_name).convert('RGB')\n",
    "    im = np.array(im) / 255.\n",
    "    \n",
    "    for j in range(3):\n",
    "        mean[j] += np.mean(im[:,:,j])\n",
    "\n",
    "mean = mean / len(train_files)\n",
    "mean"
   ]
  },
  {
   "cell_type": "code",
   "execution_count": 25,
   "metadata": {},
   "outputs": [
    {
     "data": {
      "text/plain": [
       "array([0.18671342, 0.1227083 , 0.11389974])"
      ]
     },
     "execution_count": 25,
     "metadata": {},
     "output_type": "execute_result"
    }
   ],
   "source": [
    "for i, fn in enumerate(train_files):\n",
    "    file_name = data_path + f'{fn}.jpeg'\n",
    "    im = Image.open(file_name).convert('RGB')\n",
    "    im = np.array(im) / 255.\n",
    "    for j in range(3):\n",
    "        stdTemp[j] += ((im[:,:,j] - mean[j])**2).sum()/(im.shape[0]*im.shape[1])\n",
    "\n",
    "std = np.sqrt(stdTemp/len(train_files))\n",
    "\n",
    "std"
   ]
  }
 ],
 "metadata": {
  "kernelspec": {
   "display_name": "Python 3.8.10 64-bit",
   "language": "python",
   "name": "python3"
  },
  "language_info": {
   "codemirror_mode": {
    "name": "ipython",
    "version": 3
   },
   "file_extension": ".py",
   "mimetype": "text/x-python",
   "name": "python",
   "nbconvert_exporter": "python",
   "pygments_lexer": "ipython3",
   "version": "3.8.10"
  },
  "orig_nbformat": 4,
  "vscode": {
   "interpreter": {
    "hash": "31f2aee4e71d21fbe5cf8b01ff0e069b9275f58929596ceb00d14d90e3e16cd6"
   }
  }
 },
 "nbformat": 4,
 "nbformat_minor": 2
}
