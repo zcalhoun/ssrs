{
 "cells": [
  {
   "cell_type": "code",
   "execution_count": 1,
   "metadata": {},
   "outputs": [],
   "source": [
    "import pandas as pd \n",
    "import matplotlib.pyplot as plt"
   ]
  },
  {
   "cell_type": "code",
   "execution_count": 2,
   "metadata": {},
   "outputs": [],
   "source": [
    "df = pd.read_csv('./crop_delineation_batch_results.csv', index_col=0)"
   ]
  },
  {
   "cell_type": "code",
   "execution_count": 3,
   "metadata": {},
   "outputs": [
    {
     "data": {
      "text/html": [
       "<div>\n",
       "<style scoped>\n",
       "    .dataframe tbody tr th:only-of-type {\n",
       "        vertical-align: middle;\n",
       "    }\n",
       "\n",
       "    .dataframe tbody tr th {\n",
       "        vertical-align: top;\n",
       "    }\n",
       "\n",
       "    .dataframe thead th {\n",
       "        text-align: right;\n",
       "    }\n",
       "</style>\n",
       "<table border=\"1\" class=\"dataframe\">\n",
       "  <thead>\n",
       "    <tr style=\"text-align: right;\">\n",
       "      <th></th>\n",
       "      <th>datasize</th>\n",
       "      <th>encoder</th>\n",
       "      <th>trial</th>\n",
       "      <th>iou</th>\n",
       "      <th>max_f1</th>\n",
       "    </tr>\n",
       "  </thead>\n",
       "  <tbody>\n",
       "    <tr>\n",
       "      <th>0</th>\n",
       "      <td>64</td>\n",
       "      <td>supervised</td>\n",
       "      <td>t1</td>\n",
       "      <td>0.410053</td>\n",
       "      <td>0.586123</td>\n",
       "    </tr>\n",
       "    <tr>\n",
       "      <th>1</th>\n",
       "      <td>64</td>\n",
       "      <td>supervised</td>\n",
       "      <td>t2</td>\n",
       "      <td>0.404144</td>\n",
       "      <td>0.587105</td>\n",
       "    </tr>\n",
       "    <tr>\n",
       "      <th>2</th>\n",
       "      <td>64</td>\n",
       "      <td>supervised</td>\n",
       "      <td>t3</td>\n",
       "      <td>0.410844</td>\n",
       "      <td>0.590428</td>\n",
       "    </tr>\n",
       "    <tr>\n",
       "      <th>3</th>\n",
       "      <td>64</td>\n",
       "      <td>swav-imagenet</td>\n",
       "      <td>t1</td>\n",
       "      <td>0.414206</td>\n",
       "      <td>0.591660</td>\n",
       "    </tr>\n",
       "    <tr>\n",
       "      <th>4</th>\n",
       "      <td>64</td>\n",
       "      <td>swav-imagenet</td>\n",
       "      <td>t2</td>\n",
       "      <td>0.405224</td>\n",
       "      <td>0.590369</td>\n",
       "    </tr>\n",
       "  </tbody>\n",
       "</table>\n",
       "</div>"
      ],
      "text/plain": [
       "   datasize        encoder trial       iou    max_f1\n",
       "0        64     supervised    t1  0.410053  0.586123\n",
       "1        64     supervised    t2  0.404144  0.587105\n",
       "2        64     supervised    t3  0.410844  0.590428\n",
       "3        64  swav-imagenet    t1  0.414206  0.591660\n",
       "4        64  swav-imagenet    t2  0.405224  0.590369"
      ]
     },
     "execution_count": 3,
     "metadata": {},
     "output_type": "execute_result"
    }
   ],
   "source": [
    "df.head()"
   ]
  },
  {
   "cell_type": "code",
   "execution_count": 9,
   "metadata": {},
   "outputs": [],
   "source": [
    "df_pivot = pd.pivot_table(df, values = 'iou', index='datasize', columns='encoder')"
   ]
  },
  {
   "cell_type": "code",
   "execution_count": 10,
   "metadata": {},
   "outputs": [
    {
     "data": {
      "text/plain": [
       "<matplotlib.legend.Legend at 0x7fce447e16f0>"
      ]
     },
     "execution_count": 10,
     "metadata": {},
     "output_type": "execute_result"
    },
    {
     "data": {
      "image/png": "[encoded data removed]",
      "text/plain": [
       "<Figure size 432x288 with 1 Axes>"
      ]
     },
     "metadata": {
      "needs_background": "light"
     },
     "output_type": "display_data"
    }
   ],
   "source": [
    "plt.plot(df_pivot.index, df_pivot['supervised'], label='supervised')\n",
    "plt.plot(df_pivot.index, df_pivot['swav-imagenet'], label='swav')\n",
    "plt.plot(df_pivot.index, df_pivot['swav-c1'], label='swav+pretraining')\n",
    "plt.xscale('log')\n",
    "plt.xlabel(\"Datasize\")\n",
    "plt.ylabel(\"Pixel IoU\")\n",
    "plt.legend()"
   ]
  }
 ],
 "metadata": {
  "kernelspec": {
   "display_name": "Python 3.10.5 ('geospatial')",
   "language": "python",
   "name": "python3"
  },
  "language_info": {
   "codemirror_mode": {
    "name": "ipython",
    "version": 3
   },
   "file_extension": ".py",
   "mimetype": "text/x-python",
   "name": "python",
   "nbconvert_exporter": "python",
   "pygments_lexer": "ipython3",
   "version": "3.10.5"
  },
  "orig_nbformat": 4,
  "vscode": {
   "interpreter": {
    "hash": "5f5346f359a3c5d96b92ff5b0b692b3a2390c3fcc954ce33a5806add5ad1798c"
   }
  }
 },
 "nbformat": 4,
 "nbformat_minor": 2
}
